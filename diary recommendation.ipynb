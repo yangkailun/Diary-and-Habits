{
 "cells": [
  {
   "cell_type": "code",
   "execution_count": 377,
   "metadata": {},
   "outputs": [],
   "source": [
    "import pandas as pd\n",
    "import numpy as np\n",
    "import pymongo\n",
    "import matplotlib.pyplot as plt\n",
    "import jieba\n",
    "import re\n",
    "from math import sqrt\n",
    "import datetime"
   ]
  },
  {
   "cell_type": "markdown",
   "metadata": {},
   "source": [
    "### 把excel中的数据读入mongodb中"
   ]
  },
  {
   "cell_type": "code",
   "execution_count": 378,
   "metadata": {},
   "outputs": [],
   "source": [
    "df = pd.read_excel('diary.xlsx')"
   ]
  },
  {
   "cell_type": "code",
   "execution_count": 379,
   "metadata": {},
   "outputs": [],
   "source": [
    "client = pymongo.MongoClient('localhost',27017)\n",
    "db = client.diary\n",
    "column = db.diary\n",
    "#每次重新插入数据库时，都要先清空\n",
    "column.delete_many({})\n",
    "for index in range(df.shape[0]):\n",
    "    try:\n",
    "        everyday = dict(df.iloc[index])\n",
    "    #     del everyday['日期']\n",
    "        column.insert_one(everyday)\n",
    "    except:\n",
    "        print(index)\n",
    "        print(everyday['日期'])"
   ]
  },
  {
   "cell_type": "markdown",
   "metadata": {},
   "source": [
    "### 从数据库中读出数据，把日记中的诸多信息分别赋值给多个变量供后面使用。"
   ]
  },
  {
   "cell_type": "code",
   "execution_count": 380,
   "metadata": {},
   "outputs": [],
   "source": [
    "cursor = column.find()\n",
    "cursor_new = cursor.clone()\n",
    "keys = list(cursor_new[0].keys()) #后面搜索功能用到着\n",
    "word_len = {}\n",
    "text = ''\n",
    "everyday_text = {}\n",
    "everyday_item_text = {}\n",
    "days = [] #存放所有日记的日期\n",
    "for day in cursor_new:\n",
    "    word_num = 0\n",
    "    days.append(day['日期'])\n",
    "    everyday_text[day['日期']] = ''\n",
    "    everyday_item_text[day['日期']] = {}\n",
    "    for key in keys:\n",
    "        #统计是字符串的值，其他暂不能统计\n",
    "        if key != '_id' and type(day[key]) == str:\n",
    "            word_num += len(day[key])\n",
    "            text += day[key]\n",
    "            everyday_text[day['日期']] += day[key]\n",
    "            everyday_item_text[day['日期']][key] = day[key]\n",
    "    word_len[day['日期']] = word_num\n",
    "# print(word_len)\n",
    "# print(len(text))\n",
    "# print(everyday_text['2020.3.28'])\n",
    "# print(everyday_item_text['2020.3.27']['警言'])"
   ]
  },
  {
   "cell_type": "code",
   "execution_count": 381,
   "metadata": {},
   "outputs": [],
   "source": [
    "# list(word_len.keys())\n",
    "# word_len.values\n",
    "#正常显示中文\n",
    "\n",
    "plt.rcParams[\"font.sans-serif\"] = [\"SimHei\"]\n",
    "\n",
    "def plt_picture():\n",
    "    plt.bar(range(len(word_len.keys())), word_len.values())\n",
    "    plt.xlabel(\"日期\")\n",
    "    plt.ylabel('字数')\n",
    "    plt.title('每天日记的字数统计')\n",
    "    plt.show()\n",
    "    \n",
    "    plt.plot(range(len(word_len.keys())), word_len.values())\n",
    "    plt.xlabel(\"日期\")\n",
    "    plt.ylabel('每日字数')\n",
    "    plt.title('每天日记的字数统计')\n",
    "    plt.show()\n",
    "    \n",
    "    # 每天字数增加进度折线 思路来源: >得到APP，每天听本书，《暗时间》，提到进度条\n",
    "    everyday_word_len = word_len.values()\n",
    "    increase_word_len = []\n",
    "    sum_len = 0\n",
    "    for each in everyday_word_len:\n",
    "        sum_len += each\n",
    "        increase_word_len.append(sum_len)\n",
    "    plt.plot(range(len(increase_word_len)), increase_word_len)\n",
    "    plt.xlabel(\"日期\")\n",
    "    plt.ylabel('总字数字数')\n",
    "    plt.title('每天字数统计')\n",
    "    plt.show()"
   ]
  },
  {
   "cell_type": "code",
   "execution_count": 406,
   "metadata": {},
   "outputs": [],
   "source": [
    "def print_statistics():\n",
    "    words = list(word_len.values())\n",
    "    word_sum = np.sum(words)\n",
    "    word_mean = np.mean(words)\n",
    "    word_median = np.median(words)\n",
    "    day_len = len(days)\n",
    "    print('日记天数：',day_len,'\\n','总字数：',word_sum,'\\n','平均字数：',word_mean,'\\n','字数中位数：',word_median)"
   ]
  },
  {
   "cell_type": "markdown",
   "metadata": {},
   "source": [
    "## 功能"
   ]
  },
  {
   "cell_type": "markdown",
   "metadata": {},
   "source": [
    "### 1. 获得日记中的所有文本，并且分词"
   ]
  },
  {
   "cell_type": "code",
   "execution_count": 383,
   "metadata": {},
   "outputs": [],
   "source": [
    "def jieba_depart(text):\n",
    "    test_text = text\n",
    "    test_text = re.sub(r'[^\\u4e00-\\u9fa5]+', '', test_text) #把非汉字的字符去掉\n",
    "    word_depart = jieba.cut(test_text)\n",
    "    words = list(word_depart)\n",
    "    return words\n",
    "\n",
    "words = jieba_depart(text)\n",
    "# print(words)\n",
    "# for word in words:\n",
    "#     print(word)"
   ]
  },
  {
   "cell_type": "markdown",
   "metadata": {},
   "source": [
    "### 2. 把列表中的单词统计词频"
   ]
  },
  {
   "cell_type": "code",
   "execution_count": 384,
   "metadata": {},
   "outputs": [
    {
     "data": {
      "text/plain": [
       "'\\nplt.bar(range(len(word_num_dict.keys())), word_num_dict.values())\\nplt.xlabel(\"单词\")\\nplt.ylabel(\\'频率\\')\\nplt.title(\\'日记词频统计\\')\\nplt.show()   \\n'"
      ]
     },
     "execution_count": 384,
     "metadata": {},
     "output_type": "execute_result"
    }
   ],
   "source": [
    "\n",
    "def get_word_num(word_list):\n",
    "    word_num_dict = {}\n",
    "    for word in word_list:\n",
    "        if word not in word_num_dict:\n",
    "            word_num_dict.setdefault(word,1)\n",
    "        else:\n",
    "            word_num_dict[word] += 1\n",
    "    return word_num_dict\n",
    "\n",
    "word_num_dict = get_word_num(words)\n",
    "\n",
    "'''\n",
    "plt.bar(range(len(word_num_dict.keys())), word_num_dict.values())\n",
    "plt.xlabel(\"单词\")\n",
    "plt.ylabel('频率')\n",
    "plt.title('日记词频统计')\n",
    "plt.show()   \n",
    "'''"
   ]
  },
  {
   "cell_type": "markdown",
   "metadata": {},
   "source": [
    "### 3. 根据词频排序"
   ]
  },
  {
   "cell_type": "code",
   "execution_count": 385,
   "metadata": {},
   "outputs": [],
   "source": [
    "def word_num_sort(word_num_dict):\n",
    "    word_num_tuple = zip(word_num_dict.values(), word_num_dict.keys())\n",
    "    sort_word_num = sorted(word_num_tuple, reverse=True)\n",
    "    return sort_word_num\n",
    "sort_word_num = word_num_sort(word_num_dict)\n",
    "# print(sort_word_num)"
   ]
  },
  {
   "cell_type": "markdown",
   "metadata": {},
   "source": [
    "### 4. 选取指定范围的词，频率太高的，太低的都不太具有代表性"
   ]
  },
  {
   "cell_type": "code",
   "execution_count": 386,
   "metadata": {},
   "outputs": [],
   "source": [
    "def select_word(sort_word_num, start=0.08, end=0.3):\n",
    "    length = len(sort_word_num)\n",
    "    start_index = int(length * start)\n",
    "    end_index = int(length * end)\n",
    "    represent = sort_word_num[start_index:end_index]\n",
    "    return represent\n",
    "\n",
    "# print(select_word(sort_word_num, 0.08, 0.13))"
   ]
  },
  {
   "cell_type": "markdown",
   "metadata": {},
   "source": [
    "### 5. 获得任意一天的代表词频字典，类似于每个用户对物品的评价字典，构造数据集"
   ]
  },
  {
   "cell_type": "code",
   "execution_count": 387,
   "metadata": {},
   "outputs": [],
   "source": [
    "critics = {}\n",
    "\n",
    "for key,value in everyday_text.items():\n",
    "    everyday_words = jieba_depart(value)\n",
    "    everyday_word_num_sort = word_num_sort(get_word_num(everyday_words))\n",
    "     \n",
    "    word_num = select_word(everyday_word_num_sort)\n",
    "    word_num_dict = {}\n",
    "    for word in word_num:\n",
    "        word_num_dict[word[1]] = word[0]\n",
    "    critics[key] = word_num_dict\n",
    "\n",
    "# print(critics)"
   ]
  },
  {
   "cell_type": "markdown",
   "metadata": {},
   "source": [
    "### 6. 基于用户的协同过滤算法，推荐相似的一天。相似度量可选。 >《集体智慧编程》"
   ]
  },
  {
   "cell_type": "code",
   "execution_count": 388,
   "metadata": {},
   "outputs": [],
   "source": [
    "def sim_distance(prefs, person1, person2):\n",
    "    si = {}\n",
    "    for item in prefs[person1]:\n",
    "        if item in prefs[person2]:\n",
    "            si[item] = 1\n",
    "\n",
    "    if len(si) == 0:\n",
    "        return 0\n",
    "\n",
    "    sum_of_squares = sum([pow(prefs[person1][item]-prefs[person2][item],2) for item in prefs[person1] if item in prefs[person2]])\n",
    "\n",
    "    # print(sum_of_squares)\n",
    "    return 1/(1+sqrt(sum_of_squares))\n",
    "def sim_pearson(prefs, p1, p2):\n",
    "    si = {}\n",
    "    for item in prefs[p1]:\n",
    "        if item in prefs[p2]:\n",
    "            si[item] = 1\n",
    "\n",
    "    n = len(si)\n",
    "#     print(n)\n",
    "    if n == 0:\n",
    "        return 0\n",
    "\n",
    "    sum1 = sum([prefs[p1][it] for it in si])\n",
    "    sum2 = sum([prefs[p2][it] for it in si])\n",
    "\n",
    "    sum1Sq = sum([pow(prefs[p1][it],2) for it in si])\n",
    "    sum2Sq = sum([pow(prefs[p2][it],2) for it in si])\n",
    "\n",
    "    pSum = sum([prefs[p1][it]*prefs[p2][it] for it in si])\n",
    "\n",
    "    #计算皮尔逊评价值\n",
    "    num = pSum - (sum1 * sum2 / n)\n",
    "#     print(num)\n",
    "    den = sqrt((sum1Sq-pow(sum1,2)/n)*(sum2Sq-pow(sum2, 2)/n))\n",
    "#     print(den)\n",
    "    if den == 0:\n",
    "        return 0\n",
    "\n",
    "    r = num / den\n",
    "\n",
    "    return r\n",
    "\n",
    "#输出与某天日记最相似的n个日记\n",
    "def topMatches(prefs, person, n=5, similarity=sim_pearson):\n",
    "    scores=[(similarity(prefs,person,other), other) for other in prefs if other != person]\n",
    "    scores.sort()\n",
    "    scores.reverse()\n",
    "    return scores[0:n]\n",
    "\n",
    "#推荐可能用到的词\n",
    "def getRecommendations(prefs, person, n=5, similarity=sim_pearson):\n",
    "    totals = {}\n",
    "    simSums = {}\n",
    "    for other in prefs:\n",
    "    #不要和自己作比较\n",
    "        if other == person:\n",
    "            continue\n",
    "        sim = similarity(prefs, person, other)\n",
    "\n",
    "        #忽略评价值为零，或者小于零的情况\n",
    "        if sim<=0:\n",
    "            continue\n",
    "        for item in prefs[other]:\n",
    "\n",
    "          #只对自己还未看过的电影进行评价\n",
    "          if item not in prefs[person] or prefs[person][item] == 0:\n",
    "            #相似度*评价值\n",
    "            totals.setdefault(item, 0)\n",
    "            totals[item] += prefs[other][item]*sim\n",
    "            #相似度之和\n",
    "            simSums.setdefault(item, 0)\n",
    "            simSums[item] += sim\n",
    "    #建立一个归一化的列表\n",
    "    rankings = [(total/simSums[item],item) for item,total in totals.items()]\n",
    "    \n",
    "    #返回经过排序的列表\n",
    "    rankings.sort()\n",
    "    rankings.reverse()\n",
    "    return rankings[0:5]\n"
   ]
  },
  {
   "cell_type": "markdown",
   "metadata": {},
   "source": [
    "### 7. 查看任意一天的所有日记信息"
   ]
  },
  {
   "cell_type": "code",
   "execution_count": 389,
   "metadata": {},
   "outputs": [],
   "source": [
    "def look_everyday(date):\n",
    "    return everyday_text[date]"
   ]
  },
  {
   "cell_type": "code",
   "execution_count": 390,
   "metadata": {},
   "outputs": [
    {
     "name": "stdout",
     "output_type": "stream",
     "text": [
      "[(1.0, '2020.4.3'), (1.0, '2020.3.6'), (0.8660254037844385, '2020.3.12'), (0.7999999999999996, '2020.3.5'), (0.7857142857142865, '2020.2.27')]\n",
      "[(4.0, '字'), (4.0, '句子'), (3.0000000000000004, '浇地'), (3.0000000000000004, '概念'), (3.0000000000000004, '日记')]\n"
     ]
    }
   ],
   "source": [
    "print(topMatches(critics,'2020.3.26'))\n",
    "print(getRecommendations(critics,'2020.4.2'))\n",
    "# print(look_everyday('2020.3.30'))"
   ]
  },
  {
   "cell_type": "markdown",
   "metadata": {},
   "source": [
    "### 8. 显示任意一天任一个单项的日记"
   ]
  },
  {
   "cell_type": "code",
   "execution_count": 391,
   "metadata": {},
   "outputs": [
    {
     "name": "stdout",
     "output_type": "stream",
     "text": [
      "\n"
     ]
    }
   ],
   "source": [
    "def diary_item(day, item):\n",
    "    if item in everyday_item_text[day]:\n",
    "        return everyday_item_text[day][item]\n",
    "    else:\n",
    "        return ''\n",
    "print(diary_item('2020.3.16','高兴'))"
   ]
  },
  {
   "cell_type": "markdown",
   "metadata": {},
   "source": [
    "### 9. 显示任意一项的每天的日记"
   ]
  },
  {
   "cell_type": "code",
   "execution_count": 392,
   "metadata": {},
   "outputs": [],
   "source": [
    "def item_everyday(days, item):\n",
    "    for everyday in days:\n",
    "        print(everyday,diary_item(everyday, item))\n",
    "# item_everyday(days, '交流')"
   ]
  },
  {
   "cell_type": "markdown",
   "metadata": {},
   "source": [
    "### 获取之前任意一天与到今天的距离"
   ]
  },
  {
   "cell_type": "code",
   "execution_count": 393,
   "metadata": {},
   "outputs": [],
   "source": [
    "#pre_date的格式'2020.3.20'\n",
    "def date_distance(pre_date):\n",
    "    pre_date_str = pre_date.split('.')\n",
    "    curr_time = datetime.datetime.now()\n",
    "    pre_time = datetime.datetime(int(pre_date_str[0]),int(pre_date_str[1]),int(pre_date_str[2]))\n",
    "    cur_time = datetime.datetime(curr_time.year,curr_time.month,curr_time.day)\n",
    "    return (cur_time - pre_time).days"
   ]
  },
  {
   "cell_type": "markdown",
   "metadata": {},
   "source": [
    "### 10. 搜索功能"
   ]
  },
  {
   "cell_type": "code",
   "execution_count": 405,
   "metadata": {},
   "outputs": [],
   "source": [
    "def find_anything(find_str):\n",
    "    for day in days:\n",
    "        for key in keys:\n",
    "            if key != '_id':\n",
    "                if find_str in diary_item(day, key):\n",
    "                    dd = date_distance(day)\n",
    "                    print(day,'距今',dd,'天')\n",
    "                    print(key,'{',diary_item(day, key),'}')\n",
    "find_anything('哈哈')"
   ]
  },
  {
   "cell_type": "markdown",
   "metadata": {},
   "source": [
    "## 统一打印分析报告"
   ]
  },
  {
   "cell_type": "code",
   "execution_count": 407,
   "metadata": {},
   "outputs": [
    {
     "name": "stdout",
     "output_type": "stream",
     "text": [
      "日记天数： 49 \n",
      " 总字数： 34331 \n",
      " 平均字数： 700.6326530612245 \n",
      " 字数中位数： 660.0\n"
     ]
    },
    {
     "data": {
      "image/png": "[encoded data removed]",
      "text/plain": [
       "<Figure size 432x288 with 1 Axes>"
      ]
     },
     "metadata": {
      "needs_background": "light"
     },
     "output_type": "display_data"
    },
    {
     "data": {
      "image/png": "[encoded data removed]",
      "text/plain": [
       "<Figure size 432x288 with 1 Axes>"
      ]
     },
     "metadata": {
      "needs_background": "light"
     },
     "output_type": "display_data"
    },
    {
     "data": {
      "image/png": "[encoded data removed]",
      "text/plain": [
       "<Figure size 432x288 with 1 Axes>"
      ]
     },
     "metadata": {
      "needs_background": "light"
     },
     "output_type": "display_data"
    }
   ],
   "source": [
    "print_statistics()\n",
    "plt_picture()"
   ]
  }
 ],
 "metadata": {
  "kernelspec": {
   "display_name": "Python 3",
   "language": "python",
   "name": "python3"
  },
  "language_info": {
   "codemirror_mode": {
    "name": "ipython",
    "version": 3
   },
   "file_extension": ".py",
   "mimetype": "text/x-python",
   "name": "python",
   "nbconvert_exporter": "python",
   "pygments_lexer": "ipython3",
   "version": "3.7.0"
  }
 },
 "nbformat": 4,
 "nbformat_minor": 2
}
